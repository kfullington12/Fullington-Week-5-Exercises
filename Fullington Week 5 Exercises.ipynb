{
 "cells": [
  {
   "cell_type": "markdown",
   "id": "ff203f21",
   "metadata": {},
   "source": [
    " # Assignment 5.2 - ( 5.1, 5.2, & 6.1)\n",
    "\n",
    "http://thinkstats2.com\n",
    "\n",
    "Copyright 2016 Allen B. Downey\n",
    "\n",
    "MIT License: https://opensource.org/licenses/MIT"
   ]
  },
  {
   "cell_type": "markdown",
   "id": "22a169b3",
   "metadata": {},
   "source": [
    "Exercise 5.1: In the BRFSS (see Section 5.4), the distribution of heights is roughly normal with parameters µ = 178 cm and σ = 7.7 cm for men, and µ = 163 cm and σ = 7.3 cm for women.\n",
    "\n",
    "In order to join Blue Man Group, you have to be male between 5’10” and 6’1” (see http://bluemancasting.com). What percentage of the U.S. male population is in this range? Hint: use scipy.stats.norm.cdf."
   ]
  },
  {
   "cell_type": "markdown",
   "id": "355331fe",
   "metadata": {},
   "source": [
    "scipy.stats contains objects that represent analytic distributions"
   ]
  },
  {
   "cell_type": "code",
   "execution_count": 1,
   "id": "efb35040",
   "metadata": {},
   "outputs": [],
   "source": [
    "import scipy.stats"
   ]
  },
  {
   "cell_type": "markdown",
   "id": "465d4d3c",
   "metadata": {},
   "source": [
    "For example scipy.stats.norm represents a normal distribution."
   ]
  },
  {
   "cell_type": "code",
   "execution_count": 3,
   "id": "8625be33",
   "metadata": {},
   "outputs": [
    {
     "data": {
      "text/plain": [
       "scipy.stats._distn_infrastructure.rv_frozen"
      ]
     },
     "execution_count": 3,
     "metadata": {},
     "output_type": "execute_result"
    }
   ],
   "source": [
    "mu = 178\n",
    "sigma = 7.7\n",
    "dist = scipy.stats.norm(loc=mu, scale=sigma)\n",
    "type(dist)"
   ]
  },
  {
   "cell_type": "markdown",
   "id": "16ab2bf9",
   "metadata": {},
   "source": [
    "A \"frozen random variable\" can compute its mean and standard deviation."
   ]
  },
  {
   "cell_type": "code",
   "execution_count": 4,
   "id": "25451c75",
   "metadata": {},
   "outputs": [
    {
     "data": {
      "text/plain": [
       "(178.0, 7.7)"
      ]
     },
     "execution_count": 4,
     "metadata": {},
     "output_type": "execute_result"
    }
   ],
   "source": [
    "dist.mean(), dist.std()"
   ]
  },
  {
   "cell_type": "markdown",
   "id": "ed303d56",
   "metadata": {},
   "source": [
    "It can also evaluate its CDF. How many people are below the mean by more than one standard deviation? About 16%"
   ]
  },
  {
   "cell_type": "code",
   "execution_count": 5,
   "id": "72b6e138",
   "metadata": {},
   "outputs": [
    {
     "data": {
      "text/plain": [
       "0.1586552539314574"
      ]
     },
     "execution_count": 5,
     "metadata": {},
     "output_type": "execute_result"
    }
   ],
   "source": [
    "dist.cdf(mu - sigma)"
   ]
  },
  {
   "cell_type": "markdown",
   "id": "b9ab0e7c",
   "metadata": {},
   "source": [
    "How many people are between 5'10\" and 6'1\"?"
   ]
  },
  {
   "cell_type": "code",
   "execution_count": 6,
   "id": "3270ba54",
   "metadata": {},
   "outputs": [
    {
     "data": {
      "text/plain": [
       "0.8413447460685426"
      ]
     },
     "execution_count": 6,
     "metadata": {},
     "output_type": "execute_result"
    }
   ],
   "source": [
    "dist.cdf(mu + sigma)"
   ]
  },
  {
   "cell_type": "markdown",
   "id": "37daf42c",
   "metadata": {},
   "source": [
    "^ According to this (where I added one standard deviation to the mean), 84% of people fall between 5'10 and 6'1"
   ]
  },
  {
   "cell_type": "markdown",
   "id": "a99a6a43",
   "metadata": {},
   "source": [
    "Exercise 5.2: To get a feel for the Pareto distribution, let’s see how different the world would be if the distribution of human height were Pareto. With the parameters xm = 1 m and α = 1.7, we get a distribution with a reasonable minimum, 1 m, and median, 1.5 m.\n",
    "\n",
    "Plot this distribution. What is the mean human height in Pareto world? What fraction of the population is shorter than the mean? If there are 7 billion people in Pareto world, how many do we expect to be taller than 1 km? How tall do we expect the tallest person to be?\n",
    "\n",
    "scipy.stats.pareto represents a pareto distribution. In Pareto world, the distribution of human heights has parameters alpha=1.7 and xmin=1 meter. So the shortest person is 100 cm and the median is 150."
   ]
  },
  {
   "cell_type": "code",
   "execution_count": 33,
   "id": "91a59469",
   "metadata": {},
   "outputs": [
    {
     "data": {
      "text/plain": [
       "2.428571428571429"
      ]
     },
     "execution_count": 33,
     "metadata": {},
     "output_type": "execute_result"
    }
   ],
   "source": [
    "alpha = 1.7\n",
    "xmin = 1  # meter\n",
    "dist = scipy.stats.pareto(b=alpha, scale=xmin)\n",
    "dist.mean()"
   ]
  },
  {
   "cell_type": "markdown",
   "id": "337d2f61",
   "metadata": {},
   "source": [
    "What is the mean height in Pareto world?"
   ]
  },
  {
   "cell_type": "code",
   "execution_count": 22,
   "id": "2f6a5d3a",
   "metadata": {},
   "outputs": [
    {
     "name": "stdout",
     "output_type": "stream",
     "text": [
      "This is the mean in meters:  2.428571428571429\n",
      "This is the mean in feet:  7.968142857142858\n",
      "This is the mean in inches:  95.61310000000002\n",
      "This is the mean in centimeters:  242.8571428571429\n"
     ]
    }
   ],
   "source": [
    "print(\"This is the mean in meters: \", dist.mean())\n",
    "print(\"This is the mean in feet: \", (dist.mean()) * 3.281)\n",
    "print(\"This is the mean in inches: \", (dist.mean()) * 39.3701)\n",
    "print(\"This is the mean in centimeters: \", (dist.mean()) * 100)"
   ]
  },
  {
   "cell_type": "markdown",
   "id": "edce3077",
   "metadata": {},
   "source": [
    "What fraction of people are shorter than the mean?"
   ]
  },
  {
   "cell_type": "code",
   "execution_count": 42,
   "id": "54c6a9a3",
   "metadata": {},
   "outputs": [],
   "source": [
    "import numpy\n",
    "\n",
    "import thinkstats2\n",
    "import thinkplot"
   ]
  },
  {
   "cell_type": "code",
   "execution_count": 43,
   "id": "bfc64301",
   "metadata": {},
   "outputs": [
    {
     "data": {
      "image/png": "[encoded data removed]",
      "text/plain": [
       "<Figure size 432x288 with 1 Axes>"
      ]
     },
     "metadata": {
      "needs_background": "light"
     },
     "output_type": "display_data"
    }
   ],
   "source": [
    "thinkplot.PrePlot(3)\n",
    "for alpha in [1.7, 1.0, 0.5]:\n",
    "    xs, ps = thinkstats2.RenderParetoCdf(xmin, alpha, 0, 10.0, n=100)\n",
    "    thinkplot.Plot(xs, ps, label=r\"$\\alpha=%g$\" % alpha)\n",
    "\n",
    "thinkplot.Config(title=\"Pareto CDF\", xlabel=\"x\", ylabel=\"CDF\", loc=\"lower right\")"
   ]
  },
  {
   "cell_type": "code",
   "execution_count": 51,
   "id": "c0b4aa9c",
   "metadata": {},
   "outputs": [
    {
     "data": {
      "text/plain": [
       "0.778739697565288"
      ]
     },
     "execution_count": 51,
     "metadata": {},
     "output_type": "execute_result"
    }
   ],
   "source": [
    "dist.cdf(dist.mean())"
   ]
  },
  {
   "cell_type": "markdown",
   "id": "06828d0b",
   "metadata": {},
   "source": [
    "Out of 7 billion people, how many do we expect to be taller than 1 km? You could use dist.cdf or dist.sf."
   ]
  },
  {
   "cell_type": "code",
   "execution_count": 54,
   "id": "15780882",
   "metadata": {},
   "outputs": [
    {
     "data": {
      "text/plain": [
       "(55602.976430479954, 55602.97643069972)"
      ]
     },
     "execution_count": 54,
     "metadata": {},
     "output_type": "execute_result"
    }
   ],
   "source": [
    "(1 - dist.cdf(1000)) * 7e9, dist.sf(1000) * 7e9"
   ]
  },
  {
   "cell_type": "markdown",
   "id": "4d6d90b9",
   "metadata": {},
   "source": [
    "How tall do we expect the tallest person to be?"
   ]
  },
  {
   "cell_type": "code",
   "execution_count": 55,
   "id": "46558754",
   "metadata": {},
   "outputs": [
    {
     "data": {
      "text/plain": [
       "1.0525455861201714"
      ]
     },
     "execution_count": 55,
     "metadata": {},
     "output_type": "execute_result"
    }
   ],
   "source": [
    "dist.sf(600000) * 7e9"
   ]
  },
  {
   "cell_type": "markdown",
   "id": "feac9da2",
   "metadata": {},
   "source": [
    "# Chapter 6¶\n",
    "Examples and Exercises from Think Stats, 2nd Edition\n",
    "\n",
    "http://thinkstats2.com\n",
    "\n",
    "Copyright 2016 Allen B. Downey\n",
    "\n",
    "MIT License: https://opensource.org/licenses/MIT"
   ]
  },
  {
   "cell_type": "markdown",
   "id": "da9568a6",
   "metadata": {},
   "source": [
    "### Exercises\n",
    "The distribution of income is famously skewed to the right. In this exercise, we’ll measure how strong that skew is. The Current Population Survey (CPS) is a joint effort of the Bureau of Labor Statistics and the Census Bureau to study income and related variables. Data collected in 2013 is available from http://www.census.gov/hhes/www/cpstables/032013/hhinc/toc.htm. I downloaded hinc06.xls, which is an Excel spreadsheet with information about household income, and converted it to hinc06.csv, a CSV file you will find in the repository for this book. You will also find hinc2.py, which reads this file and transforms the data.\n",
    "\n",
    "The dataset is in the form of a series of income ranges and the number of respondents who fell in each range. The lowest range includes respondents who reported annual household income “Under  5000.”𝑇ℎ𝑒ℎ𝑖𝑔ℎ𝑒𝑠𝑡𝑟𝑎𝑛𝑔𝑒𝑖𝑛𝑐𝑙𝑢𝑑𝑒𝑠𝑟𝑒𝑠𝑝𝑜𝑛𝑑𝑒𝑛𝑡𝑠𝑤ℎ𝑜𝑚𝑎𝑑𝑒“ 250,000 or more.”\n",
    "\n",
    "To estimate mean and other statistics from these data, we have to make some assumptions about the lower and upper bounds, and how the values are distributed in each range. hinc2.py provides InterpolateSample, which shows one way to model this data. It takes a DataFrame with a column, income, that contains the upper bound of each range, and freq, which contains the number of respondents in each frame.\n",
    "\n",
    "It also takes log_upper, which is an assumed upper bound on the highest range, expressed in log10 dollars. The default value, log_upper=6.0 represents the assumption that the largest income among the respondents is  106 , or one million dollars.\n",
    "\n",
    "InterpolateSample generates a pseudo-sample; that is, a sample of household incomes that yields the same number of respondents in each range as the actual data. It assumes that incomes in each range are equally spaced on a log10 scale"
   ]
  },
  {
   "cell_type": "code",
   "execution_count": 58,
   "id": "b061b072",
   "metadata": {},
   "outputs": [],
   "source": [
    "from os.path import basename, exists\n",
    "\n",
    "\n",
    "def download(url):\n",
    "    filename = basename(url)\n",
    "    if not exists(filename):\n",
    "        from urllib.request import urlretrieve\n",
    "\n",
    "        local, _ = urlretrieve(url, filename)\n",
    "        print(\"Downloaded \" + local)\n",
    "\n",
    "\n",
    "download(\"https://github.com/AllenDowney/ThinkStats2/raw/master/code/thinkstats2.py\")\n",
    "download(\"https://github.com/AllenDowney/ThinkStats2/raw/master/code/thinkplot.py\")"
   ]
  },
  {
   "cell_type": "code",
   "execution_count": 59,
   "id": "50cb15af",
   "metadata": {},
   "outputs": [],
   "source": [
    "import numpy as np\n",
    "\n",
    "import thinkstats2\n",
    "import thinkplot"
   ]
  },
  {
   "cell_type": "code",
   "execution_count": 70,
   "id": "9326482a",
   "metadata": {},
   "outputs": [],
   "source": [
    "import brfss\n",
    "\n",
    "df = brfss.ReadBrfss(nrows=None)"
   ]
  },
  {
   "cell_type": "markdown",
   "id": "824cde80",
   "metadata": {},
   "source": [
    "## Moments\n",
    "\n",
    "Raw moments are just sums of powers."
   ]
  },
  {
   "cell_type": "code",
   "execution_count": 80,
   "id": "2ea1ea77",
   "metadata": {},
   "outputs": [],
   "source": [
    "def RawMoment(xs, k):\n",
    "    return sum(x**k for x in xs) / len(xs)"
   ]
  },
  {
   "cell_type": "markdown",
   "id": "4ac070dc",
   "metadata": {},
   "source": [
    "The first raw moment is the mean. The other raw moments don't mean much."
   ]
  },
  {
   "cell_type": "code",
   "execution_count": 82,
   "id": "7b1f31da",
   "metadata": {},
   "outputs": [],
   "source": [
    "def Mean(xs):\n",
    "    return RawMoment(xs, 1)"
   ]
  },
  {
   "cell_type": "markdown",
   "id": "482f42d3",
   "metadata": {},
   "source": [
    "The central moments are powers of distances from the mean."
   ]
  },
  {
   "cell_type": "code",
   "execution_count": 83,
   "id": "07df2d00",
   "metadata": {},
   "outputs": [],
   "source": [
    "def CentralMoment(xs, k):\n",
    "    mean = RawMoment(xs, 1)\n",
    "    return sum((x - mean)**k for x in xs) / len(xs)"
   ]
  },
  {
   "cell_type": "markdown",
   "id": "603a483e",
   "metadata": {},
   "source": [
    "The first central moment is approximately 0. The second central moment is the variance."
   ]
  },
  {
   "cell_type": "code",
   "execution_count": 84,
   "id": "4a6470dd",
   "metadata": {},
   "outputs": [],
   "source": [
    "def Var(xs):\n",
    "    return CentralMoment(xs, 2)"
   ]
  },
  {
   "cell_type": "markdown",
   "id": "bdb0aa85",
   "metadata": {},
   "source": [
    "The standardized moments are ratios of central moments, with powers chosen to make the dimensions cancel."
   ]
  },
  {
   "cell_type": "code",
   "execution_count": 85,
   "id": "8aef3b28",
   "metadata": {},
   "outputs": [],
   "source": [
    "def StandardizedMoment(xs, k):\n",
    "    var = CentralMoment(xs, 2)\n",
    "    std = np.sqrt(var)\n",
    "    return CentralMoment(xs, k) / std**k"
   ]
  },
  {
   "cell_type": "markdown",
   "id": "daca60d9",
   "metadata": {},
   "source": [
    "The third standardized moment is skewness."
   ]
  },
  {
   "cell_type": "code",
   "execution_count": 86,
   "id": "15d1179b",
   "metadata": {},
   "outputs": [],
   "source": [
    "def Skewness(xs):\n",
    "    return StandardizedMoment(xs, 3)"
   ]
  },
  {
   "cell_type": "code",
   "execution_count": 87,
   "id": "c332f990",
   "metadata": {},
   "outputs": [],
   "source": [
    "def Median(xs):\n",
    "    cdf = thinkstats2.Cdf(xs)\n",
    "    return cdf.Value(0.5)"
   ]
  },
  {
   "cell_type": "markdown",
   "id": "3e9f56f8",
   "metadata": {},
   "source": [
    "Because the skewness is based on the third moment, it is not robust; that is, it depends strongly on a few outliers. Pearson's median skewness is more robust."
   ]
  },
  {
   "cell_type": "code",
   "execution_count": 88,
   "id": "8a670e78",
   "metadata": {},
   "outputs": [],
   "source": [
    "def PearsonMedianSkewness(xs):\n",
    "    median = Median(xs)\n",
    "    mean = RawMoment(xs, 1)\n",
    "    var = CentralMoment(xs, 2)\n",
    "    std = np.sqrt(var)\n",
    "    gp = 3 * (mean - median) / std\n",
    "    return gp"
   ]
  },
  {
   "cell_type": "code",
   "execution_count": null,
   "id": "94ceabab",
   "metadata": {},
   "outputs": [],
   "source": []
  },
  {
   "cell_type": "code",
   "execution_count": null,
   "id": "a97cbc1a",
   "metadata": {},
   "outputs": [],
   "source": []
  },
  {
   "cell_type": "code",
   "execution_count": 89,
   "id": "6829f957",
   "metadata": {},
   "outputs": [],
   "source": [
    "def InterpolateSample(df, log_upper=6.0):\n",
    "    \"\"\"Makes a sample of log10 household income.\n",
    "\n",
    "    Assumes that log10 income is uniform in each range.\n",
    "\n",
    "    df: DataFrame with columns income and freq\n",
    "    log_upper: log10 of the assumed upper bound for the highest range\n",
    "\n",
    "    returns: NumPy array of log10 household income\n",
    "    \"\"\"\n",
    "    # compute the log10 of the upper bound for each range\n",
    "    df['log_upper'] = np.log10(df.income)\n",
    "\n",
    "    # get the lower bounds by shifting the upper bound and filling in\n",
    "    # the first element\n",
    "    df['log_lower'] = df.log_upper.shift(1)\n",
    "    df.loc[0, 'log_lower'] = 3.0\n",
    "\n",
    "    # plug in a value for the unknown upper bound of the highest range\n",
    "    df.loc[41, 'log_upper'] = log_upper\n",
    "    \n",
    "    # use the freq column to generate the right number of values in\n",
    "    # each range\n",
    "    arrays = []\n",
    "    for _, row in df.iterrows():\n",
    "        vals = np.linspace(row.log_lower, row.log_upper, int(row.freq))\n",
    "        arrays.append(vals)\n",
    "\n",
    "    # collect the arrays into a single sample\n",
    "    log_sample = np.concatenate(arrays)\n",
    "    return log_sample\n"
   ]
  },
  {
   "cell_type": "code",
   "execution_count": 90,
   "id": "bc0a3374",
   "metadata": {},
   "outputs": [],
   "source": [
    "download(\"https://github.com/AllenDowney/ThinkStats2/raw/master/code/hinc.py\")\n",
    "download(\"https://github.com/AllenDowney/ThinkStats2/raw/master/code/hinc06.csv\")"
   ]
  },
  {
   "cell_type": "code",
   "execution_count": 91,
   "id": "3f9dd525",
   "metadata": {},
   "outputs": [],
   "source": [
    "import hinc\n",
    "income_df = hinc.ReadData()"
   ]
  },
  {
   "cell_type": "code",
   "execution_count": 92,
   "id": "97639b20",
   "metadata": {},
   "outputs": [],
   "source": [
    "log_sample = InterpolateSample(income_df, log_upper=6.0)"
   ]
  },
  {
   "cell_type": "code",
   "execution_count": 93,
   "id": "45556126",
   "metadata": {},
   "outputs": [
    {
     "data": {
      "image/png": "[encoded data removed]",
      "text/plain": [
       "<Figure size 432x288 with 1 Axes>"
      ]
     },
     "metadata": {
      "needs_background": "light"
     },
     "output_type": "display_data"
    }
   ],
   "source": [
    "log_cdf = thinkstats2.Cdf(log_sample)\n",
    "thinkplot.Cdf(log_cdf)\n",
    "thinkplot.Config(xlabel='Household income (log $)',\n",
    "               ylabel='CDF')"
   ]
  },
  {
   "cell_type": "code",
   "execution_count": 94,
   "id": "f98b64e5",
   "metadata": {},
   "outputs": [],
   "source": [
    "sample = np.power(10, log_sample)"
   ]
  },
  {
   "cell_type": "code",
   "execution_count": 95,
   "id": "1fc75410",
   "metadata": {},
   "outputs": [
    {
     "data": {
      "image/png": "[encoded data removed]",
      "text/plain": [
       "<Figure size 432x288 with 1 Axes>"
      ]
     },
     "metadata": {
      "needs_background": "light"
     },
     "output_type": "display_data"
    }
   ],
   "source": [
    "cdf = thinkstats2.Cdf(sample)\n",
    "thinkplot.Cdf(cdf)\n",
    "thinkplot.Config(xlabel='Household income ($)',\n",
    "               ylabel='CDF')"
   ]
  },
  {
   "cell_type": "markdown",
   "id": "c7271543",
   "metadata": {},
   "source": [
    "Compute the median, mean, skewness and Pearson’s skewness of the resulting sample. What fraction of households report a taxable income below the mean? How do the results depend on the assumed upper bound?"
   ]
  },
  {
   "cell_type": "code",
   "execution_count": 97,
   "id": "a30a6e64",
   "metadata": {},
   "outputs": [
    {
     "data": {
      "text/plain": [
       "(74278.70753118733, 51226.45447894046)"
      ]
     },
     "execution_count": 97,
     "metadata": {},
     "output_type": "execute_result"
    }
   ],
   "source": [
    "Mean(sample), Median(sample)"
   ]
  },
  {
   "cell_type": "code",
   "execution_count": 98,
   "id": "a7183cf5",
   "metadata": {},
   "outputs": [
    {
     "data": {
      "text/plain": [
       "(4.949920244429583, 0.7361258019141782)"
      ]
     },
     "execution_count": 98,
     "metadata": {},
     "output_type": "execute_result"
    }
   ],
   "source": [
    "Skewness(sample), PearsonMedianSkewness(sample)"
   ]
  },
  {
   "cell_type": "code",
   "execution_count": 99,
   "id": "55f140fc",
   "metadata": {},
   "outputs": [
    {
     "data": {
      "text/plain": [
       "0.660005879566872"
      ]
     },
     "execution_count": 99,
     "metadata": {},
     "output_type": "execute_result"
    }
   ],
   "source": [
    "cdf.Prob(Mean(sample))"
   ]
  },
  {
   "cell_type": "markdown",
   "id": "7a777885",
   "metadata": {},
   "source": [
    "All of this is based on an assumption that the highest income is one million dollars, but that's certainly not correct. What happens to the skew if the upper bound is 10 million?\n",
    "\n",
    "Without better information about the top of this distribution, we can't say much about the skewness of the distribution."
   ]
  },
  {
   "cell_type": "code",
   "execution_count": 100,
   "id": "2dfbdb2b",
   "metadata": {},
   "outputs": [],
   "source": [
    "def InterpolateSample(df, log_upper=7.0):\n",
    "    \"\"\"Makes a sample of log10 household income.\n",
    "\n",
    "    Assumes that log10 income is uniform in each range.\n",
    "\n",
    "    df: DataFrame with columns income and freq\n",
    "    log_upper: log10 of the assumed upper bound for the highest range\n",
    "\n",
    "    returns: NumPy array of log10 household income\n",
    "    \"\"\"\n",
    "    # compute the log10 of the upper bound for each range\n",
    "    df['log_upper'] = np.log10(df.income)\n",
    "\n",
    "    # get the lower bounds by shifting the upper bound and filling in\n",
    "    # the first element\n",
    "    df['log_lower'] = df.log_upper.shift(1)\n",
    "    df.loc[0, 'log_lower'] = 3.0\n",
    "\n",
    "    # plug in a value for the unknown upper bound of the highest range\n",
    "    df.loc[41, 'log_upper'] = log_upper\n",
    "    \n",
    "    # use the freq column to generate the right number of values in\n",
    "    # each range\n",
    "    arrays = []\n",
    "    for _, row in df.iterrows():\n",
    "        vals = np.linspace(row.log_lower, row.log_upper, int(row.freq))\n",
    "        arrays.append(vals)\n",
    "\n",
    "    # collect the arrays into a single sample\n",
    "    log_sample = np.concatenate(arrays)\n",
    "    return log_sample\n",
    "# log of ten million is 7.0"
   ]
  },
  {
   "cell_type": "code",
   "execution_count": 101,
   "id": "77bbecd0",
   "metadata": {},
   "outputs": [],
   "source": [
    "log_sample = InterpolateSample(income_df, log_upper=7.0)"
   ]
  },
  {
   "cell_type": "code",
   "execution_count": 102,
   "id": "131d8f53",
   "metadata": {},
   "outputs": [
    {
     "data": {
      "image/png": "[encoded data removed]",
      "text/plain": [
       "<Figure size 432x288 with 1 Axes>"
      ]
     },
     "metadata": {
      "needs_background": "light"
     },
     "output_type": "display_data"
    }
   ],
   "source": [
    "log_cdf = thinkstats2.Cdf(log_sample)\n",
    "thinkplot.Cdf(log_cdf)\n",
    "thinkplot.Config(xlabel='Household income (log $)',\n",
    "               ylabel='CDF')"
   ]
  },
  {
   "cell_type": "code",
   "execution_count": 103,
   "id": "94803b14",
   "metadata": {},
   "outputs": [],
   "source": [
    "sample = np.power(10, log_sample)"
   ]
  },
  {
   "cell_type": "code",
   "execution_count": 104,
   "id": "33f49dae",
   "metadata": {},
   "outputs": [
    {
     "data": {
      "image/png": "[encoded data removed]",
      "text/plain": [
       "<Figure size 432x288 with 1 Axes>"
      ]
     },
     "metadata": {
      "needs_background": "light"
     },
     "output_type": "display_data"
    }
   ],
   "source": [
    "cdf = thinkstats2.Cdf(sample)\n",
    "thinkplot.Cdf(cdf)\n",
    "thinkplot.Config(xlabel='Household income ($)',\n",
    "               ylabel='CDF')"
   ]
  },
  {
   "cell_type": "code",
   "execution_count": 105,
   "id": "b13e3784",
   "metadata": {},
   "outputs": [
    {
     "data": {
      "text/plain": [
       "(11.603690267537793, 0.39156450927742087)"
      ]
     },
     "execution_count": 105,
     "metadata": {},
     "output_type": "execute_result"
    }
   ],
   "source": [
    "Skewness(sample), PearsonMedianSkewness(sample)"
   ]
  },
  {
   "cell_type": "markdown",
   "id": "5556cc97",
   "metadata": {},
   "source": [
    "The skewness increases drastically from about 4 to about 11."
   ]
  }
 ],
 "metadata": {
  "kernelspec": {
   "display_name": "Python 3 (ipykernel)",
   "language": "python",
   "name": "python3"
  },
  "language_info": {
   "codemirror_mode": {
    "name": "ipython",
    "version": 3
   },
   "file_extension": ".py",
   "mimetype": "text/x-python",
   "name": "python",
   "nbconvert_exporter": "python",
   "pygments_lexer": "ipython3",
   "version": "3.9.7"
  }
 },
 "nbformat": 4,
 "nbformat_minor": 5
}
